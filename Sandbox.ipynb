{
 "cells": [
  {
   "cell_type": "code",
   "execution_count": null,
   "metadata": {},
   "outputs": [],
   "source": [
    "! pip install music21"
   ]
  },
  {
   "cell_type": "code",
   "execution_count": 38,
   "metadata": {},
   "outputs": [],
   "source": [
    "from music21 import converter, instrument, note, chord\n",
    "import glob\n",
    "import os\n",
    "import numpy as np"
   ]
  },
  {
   "cell_type": "code",
   "execution_count": 40,
   "metadata": {},
   "outputs": [
    {
     "name": "stdout",
     "output_type": "stream",
     "text": [
      "Importing from file: the connemara cradle song.MID\n",
      "Notes to Parse full: \n",
      "<music21.stream.iterator.StreamIterator for Score:0x15125da748 @:0>\n",
      "Notes: \n",
      "['A1', 'A1', 'A1', 'A1', 'A1', 'D2', 'D2', 'D2', 'D2', 'D2', 'D2', 'D2', 'A1', 'A1', 'A1', 'A1', 'A1', 'A1', 'A1', 'A1', 'A1', 'D2', 'D2', 'D2', 'D2', 'D2', 'D2', 'D2', 'D2', 'A1', 'A1', 'A1', 'A1', 'A1', 'A1', 'A1', 'D2', 'D2', 'D2', 'D2', 'D2', 'D2', 'D2', 'A1', 'A1', 'A1', 'A1', 'A1', 'A1', 'A1', 'A1', 'A1', 'D2', 'D2', 'D2', 'D2', 'D2', 'D2', 'D2', 'D2', 'A1', 'A1', 'A1', 'A1', 'A1', 'A1', 'A1', 'A1', 'A1', 'D2', 'D2', 'D2', 'D2', 'D2', 'D2', 'D2', 'D2', 'A1', 'A1', 'A1', 'A1', 'A1', 'A1', 'A1', 'D2', 'D2', 'D2', 'D2', 'D2', 'D2', 'D2', 'A1', 'A1', 'A1', 'A1', 'A1', 'A1', 'A1', 'A1', 'A1', 'D2', 'D2', 'D2', 'E2', 'E2', 'E2', 'E2', 'E2', 'B1', 'B1', 'B1', 'B1', 'B1', 'B1', 'B1', 'B1', 'B1', 'E2', 'E2', 'E2', 'E2', 'E2', 'E2', 'E2', 'E2', 'B1', 'B1', 'B1', 'B1', 'B1', 'B1', 'B1', 'E2', 'E2', 'E2', 'E2', 'E2', 'E2', 'E2', 'B1', 'B1', 'B1', 'B1', 'B1', 'B1', 'B1', 'B1', 'B1', 'E2', 'E2', 'E2', 'E2', 'E2', 'E2', 'E2', 'E2', 'B1', 'B1', 'B1', 'B1', 'B1', 'B1', 'B1', 'B1', 'B1', 'E2', 'E2', 'E2', 'E2', 'E2', 'E2', 'E2', 'E2', 'B1', 'B1', 'B1', 'B1', 'B1', 'B1', 'B1', 'E2', 'E2', 'E2', 'E2', 'E2', 'E2', 'E2', 'B1', 'B1', 'B1', 'B1', 'B1', 'B1', 'B1', 'B1', 'B1', 'E2', 'E2', 'E2', 'E2', 'E2', 'E2', 'E2', 'E2', 'B1', 'B1', 'B1', 'B1', 'B1', 'B1', 'B1', 'B1', 'B1', 'E2', 'E2', 'E2']\n"
     ]
    }
   ],
   "source": [
    "\n",
    "data_path = \"data/\"\n",
    "\n",
    "notes = []\n",
    "for file in os.listdir(data_path):\n",
    "    if not file.startswith('.'):\n",
    "        print(f\"Importing from file: {file}\")\n",
    "        midi = converter.parse(data_path + file)\n",
    "        notes_to_parse = None\n",
    "        parts = instrument.partitionByInstrument(midi)\n",
    "        if parts: # file has instrument parts\n",
    "            notes_to_parse = parts.parts[0].recurse()\n",
    "            print(\"Notes to Parse full: \")\n",
    "        else: # file has notes in a flat structure\n",
    "            notes_to_parse = midi.flat.notes\n",
    "            print(\"Notes to Parse flat: \")\n",
    "        print(parts.parts)\n",
    "        for element in notes_to_parse:\n",
    "            if isinstance(element, note.Note):\n",
    "                notes.append(str(element.pitch))\n",
    "            elif isinstance(element, chord.Chord):\n",
    "                notes.append('.'.join(str(n) for n in element.normalOrder))\n",
    "        print(\"Notes: \")\n",
    "        print(notes)"
   ]
  },
  {
   "cell_type": "code",
   "execution_count": null,
   "metadata": {},
   "outputs": [],
   "source": [
    "#play a midi file?  broken...\n",
    "#b = corpus.parse('bwv66.6')\n",
    "for n in notes:\n",
    "    n.pitch.microtone = n.pitch.midi\n",
    "sp = midi.realtime.StreamPlayer(b)\n",
    "sp.play()"
   ]
  },
  {
   "cell_type": "code",
   "execution_count": 32,
   "metadata": {},
   "outputs": [],
   "source": [
    "# Convert all the note names to integers. \n",
    "\n",
    "sequence_length = 100\n",
    "# get all pitch names\n",
    "pitchnames = sorted(set(item for item in notes))\n",
    "# create a dictionary to map pitches to integers\n",
    "note_to_int = dict((note, number) for number, note in enumerate(pitchnames))\n",
    "network_input = []\n",
    "network_output = []\n"
   ]
  },
  {
   "cell_type": "code",
   "execution_count": 33,
   "metadata": {},
   "outputs": [],
   "source": [
    "# Create input sequences and the corresponding outputs\n",
    "\n",
    "for i in range(0, len(notes) - sequence_length, 1):\n",
    "    sequence_in = notes[i:i + sequence_length]\n",
    "    sequence_out = notes[i + sequence_length]\n",
    "    network_input.append([note_to_int[char] for char in sequence_in])\n",
    "    network_output.append(note_to_int[sequence_out])\n",
    "n_patterns = len(network_input)\n"
   ]
  },
  {
   "cell_type": "code",
   "execution_count": 34,
   "metadata": {},
   "outputs": [],
   "source": [
    "# Reshape the input into a format compatible with LSTM layers\n",
    "\n",
    "network_input = np.reshape(network_input, (n_patterns, sequence_length, 1))\n"
   ]
  },
  {
   "cell_type": "code",
   "execution_count": 35,
   "metadata": {},
   "outputs": [
    {
     "name": "stdout",
     "output_type": "stream",
     "text": [
      "[2]\n"
     ]
    }
   ],
   "source": [
    "# Normalize input\n",
    "\n",
    "#network_input = network_input / float(n_vocab)\n",
    "print(max(network_input[0]))"
   ]
  },
  {
   "cell_type": "code",
   "execution_count": 36,
   "metadata": {},
   "outputs": [
    {
     "ename": "NameError",
     "evalue": "name 'np_utils' is not defined",
     "output_type": "error",
     "traceback": [
      "\u001b[0;31m---------------------------------------------------------------------------\u001b[0m",
      "\u001b[0;31mNameError\u001b[0m                                 Traceback (most recent call last)",
      "\u001b[0;32m<ipython-input-36-4cb682151f1a>\u001b[0m in \u001b[0;36m<module>\u001b[0;34m()\u001b[0m\n\u001b[0;32m----> 1\u001b[0;31m \u001b[0mnetwork_output\u001b[0m \u001b[0;34m=\u001b[0m \u001b[0mnp_utils\u001b[0m\u001b[0;34m.\u001b[0m\u001b[0mto_categorical\u001b[0m\u001b[0;34m(\u001b[0m\u001b[0mnetwork_output\u001b[0m\u001b[0;34m)\u001b[0m\u001b[0;34m\u001b[0m\u001b[0m\n\u001b[0m",
      "\u001b[0;31mNameError\u001b[0m: name 'np_utils' is not defined"
     ]
    }
   ],
   "source": [
    "network_output = np_utils.to_categorical(network_output)"
   ]
  },
  {
   "cell_type": "code",
   "execution_count": null,
   "metadata": {},
   "outputs": [],
   "source": []
  }
 ],
 "metadata": {
  "kernelspec": {
   "display_name": "Python 3",
   "language": "python",
   "name": "python3"
  },
  "language_info": {
   "codemirror_mode": {
    "name": "ipython",
    "version": 3
   },
   "file_extension": ".py",
   "mimetype": "text/x-python",
   "name": "python",
   "nbconvert_exporter": "python",
   "pygments_lexer": "ipython3",
   "version": "3.6.4"
  }
 },
 "nbformat": 4,
 "nbformat_minor": 2
}
